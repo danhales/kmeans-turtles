{
 "cells": [
  {
   "cell_type": "markdown",
   "metadata": {},
   "source": [
    "# Turtles All The Way Down\n",
    "\n",
    "This notebook implements the K-means clustering algorithm to see if we can successfully cluster two species of turtle hatchlings based on a few basic morphometrics––length, width, depth, and weight.\n",
    "\n",
    "Data comes from NOAA, and I've already aggregated and cleaned it for our purposes.\n",
    "\n",
    "## The Plan\n",
    "To keep things nice and visual, let's limit ourselves to two measurements: <b>WEIGHTGR</b> (weight, in grams) and <b>LENGTHCM</b> (length, in centimeters). We'll also min-max scale the data, so they each coordinate has the same spread.\n",
    "\n",
    "MinMax scaling is computed on each column as follows:\n",
    "\n",
    "$$transformed = \\frac{observation-min}{max-min}$$\n",
    "\n",
    "## The Algorithm\n",
    "The algorithm we'll be exploring works as follows:\n",
    "\n",
    "1. Choose two points P and Q randomly from the dataset to be the centroids. These centroids will define our clusters.\n",
    "\n",
    "2. Compute the distance from centroid P and centroid Q to every point in the dataset.\n",
    "\n",
    "3. Each point in the dataset has two distances computed––one to centroid P and one to centroid Q. Assign the point to the closer centroid. This divides the set of observations into two clusters.\n",
    "\n",
    "4. Average the coordinates of all points assigned to P, then update P's coordinates to these means.\n",
    "\n",
    "5. Average the coordinates of all points assigned to Q, then update Q's coordinates to these means.\n",
    "\n",
    "6. Repeat steps 2-5 until no points are reassigned."
   ]
  },
  {
   "cell_type": "code",
   "execution_count": 2,
   "metadata": {},
   "outputs": [
    {
     "data": {
      "text/html": [
       "<div>\n",
       "<style scoped>\n",
       "    .dataframe tbody tr th:only-of-type {\n",
       "        vertical-align: middle;\n",
       "    }\n",
       "\n",
       "    .dataframe tbody tr th {\n",
       "        vertical-align: top;\n",
       "    }\n",
       "\n",
       "    .dataframe thead th {\n",
       "        text-align: right;\n",
       "    }\n",
       "</style>\n",
       "<table border=\"1\" class=\"dataframe\">\n",
       "  <thead>\n",
       "    <tr style=\"text-align: right;\">\n",
       "      <th></th>\n",
       "      <th>WEIGHTGR</th>\n",
       "      <th>LENGTHCM</th>\n",
       "      <th>SPECIES</th>\n",
       "      <th>WEIGHT</th>\n",
       "      <th>LENGTH</th>\n",
       "    </tr>\n",
       "  </thead>\n",
       "  <tbody>\n",
       "    <tr>\n",
       "      <th>0</th>\n",
       "      <td>20.0</td>\n",
       "      <td>4.79</td>\n",
       "      <td>loggerhead</td>\n",
       "      <td>0.714286</td>\n",
       "      <td>0.927711</td>\n",
       "    </tr>\n",
       "    <tr>\n",
       "      <th>1</th>\n",
       "      <td>21.6</td>\n",
       "      <td>4.65</td>\n",
       "      <td>loggerhead</td>\n",
       "      <td>0.877551</td>\n",
       "      <td>0.759036</td>\n",
       "    </tr>\n",
       "    <tr>\n",
       "      <th>2</th>\n",
       "      <td>20.6</td>\n",
       "      <td>4.69</td>\n",
       "      <td>loggerhead</td>\n",
       "      <td>0.775510</td>\n",
       "      <td>0.807229</td>\n",
       "    </tr>\n",
       "    <tr>\n",
       "      <th>3</th>\n",
       "      <td>19.2</td>\n",
       "      <td>4.70</td>\n",
       "      <td>loggerhead</td>\n",
       "      <td>0.632653</td>\n",
       "      <td>0.819277</td>\n",
       "    </tr>\n",
       "    <tr>\n",
       "      <th>4</th>\n",
       "      <td>19.7</td>\n",
       "      <td>4.62</td>\n",
       "      <td>loggerhead</td>\n",
       "      <td>0.683673</td>\n",
       "      <td>0.722892</td>\n",
       "    </tr>\n",
       "  </tbody>\n",
       "</table>\n",
       "</div>"
      ],
      "text/plain": [
       "   WEIGHTGR  LENGTHCM     SPECIES    WEIGHT    LENGTH\n",
       "0      20.0      4.79  loggerhead  0.714286  0.927711\n",
       "1      21.6      4.65  loggerhead  0.877551  0.759036\n",
       "2      20.6      4.69  loggerhead  0.775510  0.807229\n",
       "3      19.2      4.70  loggerhead  0.632653  0.819277\n",
       "4      19.7      4.62  loggerhead  0.683673  0.722892"
      ]
     },
     "execution_count": 2,
     "metadata": {},
     "output_type": "execute_result"
    }
   ],
   "source": [
    "import pandas as pd\n",
    "\n",
    "# The column 'Unnamed: 0' contains an index from the larger dataset, so we'll\n",
    "# drop it.\n",
    "def load_data(filename='sample.csv'):\n",
    "    df = pd.read_csv(filename).drop(axis=1, labels=['Unnamed: 0'])[['WEIGHTGR', 'LENGTHCM', 'SPECIES']]\n",
    "    df['WEIGHT'] = (df.WEIGHTGR - df.WEIGHTGR.min()) / (df.WEIGHTGR.max() - df.WEIGHTGR.min())\n",
    "    df['LENGTH'] = (df.LENGTHCM - df.LENGTHCM.min()) / (df.LENGTHCM.max() - df.LENGTHCM.min())\n",
    "    return df\n",
    "\n",
    "load_data().head()"
   ]
  },
  {
   "cell_type": "code",
   "execution_count": 4,
   "metadata": {},
   "outputs": [
    {
     "data": {
      "image/png": "[encoded data removed]",
      "text/plain": [
       "<Figure size 360x360 with 1 Axes>"
      ]
     },
     "metadata": {
      "needs_background": "light"
     },
     "output_type": "display_data"
    }
   ],
   "source": [
    "import matplotlib.pyplot as plt\n",
    "df = load_data('sample.csv')\n",
    "\n",
    "plt.figure(figsize=(5,5))\n",
    "plt.scatter(df[df.SPECIES == 'loggerhead'].WEIGHTGR, df[df.SPECIES == 'loggerhead'].LENGTHCM)\n",
    "plt.scatter(df[df.SPECIES == 'kemps-ridley'].WEIGHTGR, df[df.SPECIES == 'kemps-ridley'].LENGTHCM)\n",
    "plt.legend(['Loggerhead', 'Kemps-Ridley'])\n",
    "plt.xlabel('Weight (g)')\n",
    "plt.ylabel('Length (cm)')\n",
    "plt.title('Hatchling Measurements (Raw)');"
   ]
  },
  {
   "cell_type": "markdown",
   "metadata": {},
   "source": [
    "These groups are cleanly separated, so in theory, we'll be able to find the distinct clusters.\n",
    "\n",
    "Note the different scales on the axes. After min-max scaling, we have the same units on both axes, which will help prevent one measurement from dominating the distance measurement."
   ]
  },
  {
   "cell_type": "code",
   "execution_count": 362,
   "metadata": {},
   "outputs": [
    {
     "data": {
      "image/png": "[encoded data removed]",
      "text/plain": [
       "<Figure size 360x360 with 1 Axes>"
      ]
     },
     "metadata": {
      "needs_background": "light"
     },
     "output_type": "display_data"
    }
   ],
   "source": [
    "plt.figure(figsize=(5,5))\n",
    "plt.scatter(df[df.SPECIES == 'loggerhead'].WEIGHT, df[df.SPECIES == 'loggerhead'].LENGTH)\n",
    "plt.scatter(df[df.SPECIES == 'kemps-ridley'].WEIGHT, df[df.SPECIES == 'kemps-ridley'].LENGTH)\n",
    "plt.legend(['Loggerhead', 'Kemps-Ridley'])\n",
    "plt.xlabel('Weight')\n",
    "plt.ylabel('Length')\n",
    "plt.title('Hatchling Measurements (Scaled)');"
   ]
  },
  {
   "cell_type": "code",
   "execution_count": 6,
   "metadata": {},
   "outputs": [
    {
     "name": "stdout",
     "output_type": "stream",
     "text": [
      "Need to get centroids...\n",
      "      WEIGHT    LENGTH       SPECIES\n",
      "22  0.959184  0.939759    loggerhead\n",
      "33  0.459184  0.469880  kemps-ridley\n"
     ]
    },
    {
     "data": {
      "text/html": [
       "<div>\n",
       "<style scoped>\n",
       "    .dataframe tbody tr th:only-of-type {\n",
       "        vertical-align: middle;\n",
       "    }\n",
       "\n",
       "    .dataframe tbody tr th {\n",
       "        vertical-align: top;\n",
       "    }\n",
       "\n",
       "    .dataframe thead th {\n",
       "        text-align: right;\n",
       "    }\n",
       "</style>\n",
       "<table border=\"1\" class=\"dataframe\">\n",
       "  <thead>\n",
       "    <tr style=\"text-align: right;\">\n",
       "      <th></th>\n",
       "      <th>WEIGHT</th>\n",
       "      <th>LENGTH</th>\n",
       "      <th>SPECIES</th>\n",
       "      <th>P</th>\n",
       "      <th>Q</th>\n",
       "      <th>iter_0</th>\n",
       "      <th>iter_1</th>\n",
       "      <th>iter_2</th>\n",
       "      <th>iter_3</th>\n",
       "      <th>iter_4</th>\n",
       "      <th>iter_5</th>\n",
       "      <th>iter_6</th>\n",
       "      <th>iter_7</th>\n",
       "      <th>iter_8</th>\n",
       "      <th>iter_9</th>\n",
       "      <th>iter_10</th>\n",
       "    </tr>\n",
       "  </thead>\n",
       "  <tbody>\n",
       "    <tr>\n",
       "      <th>0</th>\n",
       "      <td>0.714286</td>\n",
       "      <td>0.927711</td>\n",
       "      <td>loggerhead</td>\n",
       "      <td>0.134897</td>\n",
       "      <td>0.857992</td>\n",
       "      <td>P</td>\n",
       "      <td>P</td>\n",
       "      <td>P</td>\n",
       "      <td>P</td>\n",
       "      <td>P</td>\n",
       "      <td>P</td>\n",
       "      <td>P</td>\n",
       "      <td>P</td>\n",
       "      <td>P</td>\n",
       "      <td>P</td>\n",
       "      <td>P</td>\n",
       "    </tr>\n",
       "    <tr>\n",
       "      <th>1</th>\n",
       "      <td>0.877551</td>\n",
       "      <td>0.759036</td>\n",
       "      <td>loggerhead</td>\n",
       "      <td>0.134223</td>\n",
       "      <td>0.846878</td>\n",
       "      <td>P</td>\n",
       "      <td>P</td>\n",
       "      <td>P</td>\n",
       "      <td>P</td>\n",
       "      <td>P</td>\n",
       "      <td>P</td>\n",
       "      <td>P</td>\n",
       "      <td>P</td>\n",
       "      <td>P</td>\n",
       "      <td>P</td>\n",
       "      <td>P</td>\n",
       "    </tr>\n",
       "    <tr>\n",
       "      <th>2</th>\n",
       "      <td>0.775510</td>\n",
       "      <td>0.807229</td>\n",
       "      <td>loggerhead</td>\n",
       "      <td>0.028385</td>\n",
       "      <td>0.804075</td>\n",
       "      <td>P</td>\n",
       "      <td>P</td>\n",
       "      <td>P</td>\n",
       "      <td>P</td>\n",
       "      <td>P</td>\n",
       "      <td>P</td>\n",
       "      <td>P</td>\n",
       "      <td>P</td>\n",
       "      <td>P</td>\n",
       "      <td>P</td>\n",
       "      <td>P</td>\n",
       "    </tr>\n",
       "    <tr>\n",
       "      <th>3</th>\n",
       "      <td>0.632653</td>\n",
       "      <td>0.819277</td>\n",
       "      <td>loggerhead</td>\n",
       "      <td>0.118307</td>\n",
       "      <td>0.722330</td>\n",
       "      <td>P</td>\n",
       "      <td>P</td>\n",
       "      <td>P</td>\n",
       "      <td>P</td>\n",
       "      <td>P</td>\n",
       "      <td>P</td>\n",
       "      <td>P</td>\n",
       "      <td>P</td>\n",
       "      <td>P</td>\n",
       "      <td>P</td>\n",
       "      <td>P</td>\n",
       "    </tr>\n",
       "    <tr>\n",
       "      <th>4</th>\n",
       "      <td>0.683673</td>\n",
       "      <td>0.722892</td>\n",
       "      <td>loggerhead</td>\n",
       "      <td>0.098979</td>\n",
       "      <td>0.679670</td>\n",
       "      <td>Q</td>\n",
       "      <td>Q</td>\n",
       "      <td>P</td>\n",
       "      <td>P</td>\n",
       "      <td>P</td>\n",
       "      <td>P</td>\n",
       "      <td>P</td>\n",
       "      <td>P</td>\n",
       "      <td>P</td>\n",
       "      <td>P</td>\n",
       "      <td>P</td>\n",
       "    </tr>\n",
       "  </tbody>\n",
       "</table>\n",
       "</div>"
      ],
      "text/plain": [
       "     WEIGHT    LENGTH     SPECIES         P         Q iter_0 iter_1 iter_2  \\\n",
       "0  0.714286  0.927711  loggerhead  0.134897  0.857992      P      P      P   \n",
       "1  0.877551  0.759036  loggerhead  0.134223  0.846878      P      P      P   \n",
       "2  0.775510  0.807229  loggerhead  0.028385  0.804075      P      P      P   \n",
       "3  0.632653  0.819277  loggerhead  0.118307  0.722330      P      P      P   \n",
       "4  0.683673  0.722892  loggerhead  0.098979  0.679670      Q      Q      P   \n",
       "\n",
       "  iter_3 iter_4 iter_5 iter_6 iter_7 iter_8 iter_9 iter_10  \n",
       "0      P      P      P      P      P      P      P       P  \n",
       "1      P      P      P      P      P      P      P       P  \n",
       "2      P      P      P      P      P      P      P       P  \n",
       "3      P      P      P      P      P      P      P       P  \n",
       "4      P      P      P      P      P      P      P       P  "
      ]
     },
     "execution_count": 6,
     "metadata": {},
     "output_type": "execute_result"
    }
   ],
   "source": [
    "import numpy as np\n",
    "import random\n",
    "\n",
    "def get_centroids(df, random_state=None):\n",
    "    idxp = random.randint(0, len(df)-1)\n",
    "    idxq = random.randint(0, len(df)-1)\n",
    "    \n",
    "    while (idxp == idxq):\n",
    "        idxq = random.randint(0, len(df)-1)\n",
    "    \n",
    "    print(df.iloc[[idxp, idxq]])\n",
    "    \n",
    "    sample = df.sample(2, random_state=random_state)\n",
    "    p = [df.iloc[idxp]['WEIGHT'], df.iloc[idxp]['LENGTH']]\n",
    "    q = [df.iloc[idxq]['WEIGHT'], df.iloc[idxq]['LENGTH']]\n",
    "    return p, q\n",
    "\n",
    "def compute_clusters(df, p, q):\n",
    "    # distance to P\n",
    "    df['P'] = np.sqrt((df.WEIGHT - p[0])**2 + (df.LENGTH - p[1])**2)\n",
    "    \n",
    "    # distance to Q\n",
    "    df['Q'] = np.sqrt((df.WEIGHT - q[0])**2 + (df.LENGTH - q[1])**2)\n",
    "    \n",
    "    # return a series containing the clusters\n",
    "    return df[['P', 'Q']].idxmin(axis=1)\n",
    "\n",
    "def update_pq(df):\n",
    "    last = df.iloc[:,-1]\n",
    "    p = [df[last == 'P']['WEIGHT'].mean(), df[last == 'P']['LENGTH'].mean()]\n",
    "    q = [df[last == 'Q']['WEIGHT'].mean(), df[last == 'Q']['LENGTH'].mean()]\n",
    "    return p, q\n",
    "\n",
    "def kmeans(df, max_iter=10, initial_p=None, initial_q=None, random_state=None):\n",
    "    if initial_p == None or initial_q == None:\n",
    "        print('Need to get centroids...')\n",
    "        p, q = get_centroids(df, random_state=random_state)\n",
    "    else:\n",
    "        p=initial_p\n",
    "        q=initial_q\n",
    "        \n",
    "    ps = [p]\n",
    "    qs = [q]\n",
    "        \n",
    "    iteration = 0\n",
    "    df['iter_0'] = compute_clusters(df, p, q) # unassigned\n",
    "    \n",
    "    while (iteration < max_iter):\n",
    "        iteration += 1\n",
    "        df[f'iter_{iteration}'] = compute_clusters(df, p, q)\n",
    "        p, q = update_pq(df)\n",
    "                \n",
    "        ps.append(p)\n",
    "        qs.append(q)\n",
    "\n",
    "    return df, ps, qs\n",
    "\n",
    "df = load_data()[['WEIGHT', 'LENGTH', 'SPECIES']]\n",
    "kmeans(df, random_state=100)[0].head()"
   ]
  },
  {
   "cell_type": "code",
   "execution_count": 16,
   "metadata": {},
   "outputs": [
    {
     "name": "stdout",
     "output_type": "stream",
     "text": [
      "Need to get centroids...\n",
      "      WEIGHT    LENGTH       SPECIES\n",
      "6   0.887850  0.837037    loggerhead\n",
      "66  0.714953  0.770370  kemps-ridley\n"
     ]
    },
    {
     "data": {
      "image/png": "[encoded data removed]",
      "text/plain": [
       "<Figure size 1152x648 with 2 Axes>"
      ]
     },
     "metadata": {
      "needs_background": "light"
     },
     "output_type": "display_data"
    }
   ],
   "source": [
    "import seaborn as sns\n",
    "df = load_data('sample2.csv')[['WEIGHT', 'LENGTH', 'SPECIES']]\n",
    "k, ps, qs = kmeans(df)\n",
    "px = [p[0] for p in ps]\n",
    "py = [p[1] for p in ps]\n",
    "qx = [q[0] for q in qs]\n",
    "qy = [q[1] for q in qs]\n",
    "\n",
    "last = k.iloc[:,-1]\n",
    "fig, (sp, km) = plt.subplots(1, 2, figsize=(16,9))\n",
    "sns.scatterplot(k.WEIGHT, k.LENGTH, hue=k.SPECIES, ax=sp)\n",
    "sns.scatterplot(k[last=='P'].WEIGHT, k[last=='P'].LENGTH, color='blue', ax=km)\n",
    "sns.scatterplot(k[last=='Q'].WEIGHT, k[last=='Q'].LENGTH, color='orange', ax=km)\n",
    "sp.set_title('Species')\n",
    "km.set_title('K-Means')\n",
    "km.plot(px, py, color='blue', lw=2)\n",
    "km.scatter(*ps[0], marker='o', s=250, color='blue') # initial centroid is the big dot\n",
    "km.scatter(*ps[-1], marker='X', s=250, color='blue') # final centroid is the X\n",
    "km.plot(qx, qy, color='orange', lw=2)\n",
    "km.scatter(*qs[0], marker='o', s=250, color='orange')\n",
    "km.scatter(*qs[-1], marker='X', s=250, color='orange')\n",
    "\n",
    "plt.savefig('kmeans_failure.png');"
   ]
  },
  {
   "cell_type": "code",
   "execution_count": 327,
   "metadata": {},
   "outputs": [
    {
     "data": {
      "text/plain": [
       "[[1.0, 1.0],\n",
       " [0.9469387755102039, 0.8626506024096388],\n",
       " [0.780612244897959, 0.8177710843373497],\n",
       " [0.7489067055393585, 0.7973321858864033],\n",
       " [0.7489067055393585, 0.7973321858864033],\n",
       " [0.7489067055393585, 0.7973321858864033],\n",
       " [0.7489067055393585, 0.7973321858864033],\n",
       " [0.7489067055393585, 0.7973321858864033],\n",
       " [0.7489067055393585, 0.7973321858864033],\n",
       " [0.7489067055393585, 0.7973321858864033],\n",
       " [0.7489067055393585, 0.7973321858864033]]"
      ]
     },
     "execution_count": 327,
     "metadata": {},
     "output_type": "execute_result"
    }
   ],
   "source": [
    "p"
   ]
  },
  {
   "cell_type": "code",
   "execution_count": null,
   "metadata": {},
   "outputs": [],
   "source": []
  }
 ],
 "metadata": {
  "kernelspec": {
   "display_name": "Python 3",
   "language": "python",
   "name": "python3"
  },
  "language_info": {
   "codemirror_mode": {
    "name": "ipython",
    "version": 3
   },
   "file_extension": ".py",
   "mimetype": "text/x-python",
   "name": "python",
   "nbconvert_exporter": "python",
   "pygments_lexer": "ipython3",
   "version": "3.7.6"
  }
 },
 "nbformat": 4,
 "nbformat_minor": 4
}
